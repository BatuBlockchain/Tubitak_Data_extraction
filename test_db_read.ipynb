{
 "cells": [
  {
   "cell_type": "code",
   "execution_count": null,
   "metadata": {
    "vscode": {
     "languageId": "plaintext"
    }
   },
   "outputs": [],
   "source": [
    "import sqlite3\n",
    "import pandas as pd\n",
    "\n",
    "# Veritabanı bağlantısı\n",
    "conn = sqlite3.connect('test.db')\n",
    "\n",
    "# Tabloları oku\n",
    "features_df = pd.read_sql_query(\"SELECT * FROM features\", conn)\n",
    "cycles_df = pd.read_sql_query(\"SELECT * FROM cycles\", conn)\n",
    "feature_values_df = pd.read_sql_query(\"SELECT * FROM feature_values\", conn)\n",
    "\n",
    "# Tabloları görüntüle\n",
    "print(\"Features Tablosu:\")\n",
    "display(features_df)\n",
    "\n",
    "print(\"\\nCycles Tablosu:\")\n",
    "display(cycles_df)\n",
    "\n",
    "print(\"\\nFeature Values Tablosu:\")\n",
    "display(feature_values_df)\n",
    "\n",
    "# Bağlantıyı kapat\n",
    "conn.close()\n"
   ]
  }
 ],
 "metadata": {
  "language_info": {
   "name": "python"
  }
 },
 "nbformat": 4,
 "nbformat_minor": 2
}
